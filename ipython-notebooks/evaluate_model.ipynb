{
 "cells": [
  {
   "cell_type": "code",
   "execution_count": null,
   "metadata": {
    "collapsed": true
   },
   "outputs": [],
   "source": [
    "import caffe\n",
    "import surgery\n",
    "import sys\n",
    "import os\n",
    "import log_training\n",
    "import setproctitle\n",
    "import time as ti\n",
    "from threading import Thread\n",
    "setproctitle.setproctitle(os.path.basename(os.getcwd()))\n",
    "\n",
    "folder = 'logs/MyTEST-ipython'\n",
    "if not os.path.isdir(folder):\n",
    "    os.mkdir(folder)\n",
    "    os.mkdir(os.path.join(folder, 'snapshot'))\n",
    "else:\n",
    "    raise Exception(\"Log-folder '\", folder, \"'exists\")\n",
    "\n",
    "weights = 'vgg16fc-CITYSCAPES.caffemodel'\n",
    "\n",
    "# init\n",
    "caffe.set_device(3)\n",
    "caffe.set_mode_gpu()\n",
    "\n",
    "solver = caffe.SGDSolver('solver.prototxt')\n",
    "solver.net.copy_from(weights)\n",
    "\n",
    "# surgeries\n",
    "interp_layers = [k for k in solver.net.params.keys() if 'up' in k]\n",
    "surgery.interp(solver.net, interp_layers)\n",
    "\n",
    "t0 = ti.time()\n",
    "solver.step(1)\n",
    "print(1, 'solver steps take: ', round(float(ti.time()-t0),2))\n",
    "\n",
    "# Compute loss & accuracy\n",
    "t0 = ti.time()\n",
    "log_training.observe_loss_and_acc(solver, folder)\n",
    "print('diagnose_training takes: ', round(float(ti.time()-t0),2))\n",
    "\n",
    "# Get current weights\n",
    "t0 = ti.time()\n",
    "log_training.observe_weights(solver, folder)\n",
    "print('observe_weights takes: ', round(float(ti.time()-t0),2))"
   ]
  }
 ],
 "metadata": {
  "kernelspec": {
   "display_name": "Python 3",
   "language": "python",
   "name": "python3"
  },
  "language_info": {
   "codemirror_mode": {
    "name": "ipython",
    "version": 3
   },
   "file_extension": ".py",
   "mimetype": "text/x-python",
   "name": "python",
   "nbconvert_exporter": "python",
   "pygments_lexer": "ipython3",
   "version": "3.5.1"
  }
 },
 "nbformat": 4,
 "nbformat_minor": 0
}
