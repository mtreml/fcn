{
 "cells": [
  {
   "cell_type": "code",
   "execution_count": 1,
   "metadata": {
    "collapsed": false
   },
   "outputs": [
    {
     "name": "stdout",
     "output_type": "stream",
     "text": [
      "Eval is deterministic\n"
     ]
    }
   ],
   "source": [
    "import caffe\n",
    "import surgery\n",
    "import sys\n",
    "import os\n",
    "import log_training\n",
    "import diagnose_weight_init as dwi\n",
    "import setproctitle\n",
    "setproctitle.setproctitle(os.path.basename(os.getcwd()))\n",
    "\n",
    "weights = 'vgg16fc.caffemodel'\n",
    "\n",
    "# init\n",
    "caffe.set_device(0)\n",
    "caffe.set_mode_gpu()\n",
    "\n",
    "solver = caffe.SGDSolver('solver.prototxt')"
   ]
  },
  {
   "cell_type": "code",
   "execution_count": 2,
   "metadata": {
    "collapsed": false
   },
   "outputs": [
    {
     "name": "stdout",
     "output_type": "stream",
     "text": [
      "<weight> of conv1_1 : 0.0\n",
      "<bias> of conv1_1 : 0.0\n",
      "<weight> of conv1_2 : 0.0\n",
      "<bias> of conv1_2 : 0.0\n",
      "<weight> of conv2_1 : 0.0\n",
      "<bias> of conv2_1 : 0.0\n",
      "<weight> of conv2_2 : 0.0\n",
      "<bias> of conv2_2 : 0.0\n",
      "<weight> of conv3_1 : 0.0\n",
      "<bias> of conv3_1 : 0.0\n",
      "<weight> of conv3_2 : 0.0\n",
      "<bias> of conv3_2 : 0.0\n",
      "<weight> of conv3_3 : 0.0\n",
      "<bias> of conv3_3 : 0.0\n",
      "<weight> of conv4_1 : 0.0\n",
      "<bias> of conv4_1 : 0.0\n",
      "<weight> of conv4_2 : 0.0\n",
      "<bias> of conv4_2 : 0.0\n",
      "<weight> of conv4_3 : 0.0\n",
      "<bias> of conv4_3 : 0.0\n",
      "<weight> of conv5_1 : 0.0\n",
      "<bias> of conv5_1 : 0.0\n",
      "<weight> of conv5_2 : 0.0\n",
      "<bias> of conv5_2 : 0.0\n",
      "<weight> of conv5_3 : 0.0\n",
      "<bias> of conv5_3 : 0.0\n",
      "<weight> of fc6-conv : 0.0\n",
      "<bias> of fc6-conv : 0.0\n",
      "<weight> of fc7-conv : 0.0\n",
      "<bias> of fc7-conv : 0.0\n",
      "<weight> of score_fr : 0.0\n",
      "<bias> of score_fr : 0.0\n",
      "<weight> of upscore2 : 0.0\n",
      "Layer upscore2  has no bias\n",
      "<weight> of scale_pool4 : 0.01\n",
      "Layer scale_pool4  has no bias\n",
      "<weight> of score_pool4 : 0.0\n",
      "<bias> of score_pool4 : 0.0\n",
      "<weight> of upscore_pool4 : 0.0\n",
      "Layer upscore_pool4  has no bias\n",
      "<weight> of scale_pool3 : 0.0001\n",
      "Layer scale_pool3  has no bias\n",
      "<weight> of score_pool3 : 0.0\n",
      "<bias> of score_pool3 : 0.0\n",
      "<weight> of upscore8 : 0.0\n",
      "Layer upscore8  has no bias\n"
     ]
    }
   ],
   "source": [
    "dwi.print_init_info(solver.net)"
   ]
  },
  {
   "cell_type": "code",
   "execution_count": 3,
   "metadata": {
    "collapsed": false
   },
   "outputs": [
    {
     "name": "stdout",
     "output_type": "stream",
     "text": [
      "<weight> of conv1_1 : 0.16864\n",
      "<bias> of conv1_1 : 0.501886\n",
      "<weight> of conv1_2 : 0.0292296\n",
      "<bias> of conv1_2 : 0.265496\n",
      "<weight> of conv2_1 : 0.0208214\n",
      "<bias> of conv2_1 : 0.133923\n",
      "<weight> of conv2_2 : 0.0158209\n",
      "<bias> of conv2_2 : 0.147183\n",
      "<weight> of conv3_1 : 0.0119276\n",
      "<bias> of conv3_1 : 0.054964\n",
      "<weight> of conv3_2 : 0.00887883\n",
      "<bias> of conv3_2 : 0.0632454\n",
      "<weight> of conv3_3 : 0.00905539\n",
      "<bias> of conv3_3 : 0.0591653\n",
      "<weight> of conv4_1 : 0.00731401\n",
      "<bias> of conv4_1 : 0.0411595\n",
      "<weight> of conv4_2 : 0.0057639\n",
      "<bias> of conv4_2 : 0.0425173\n",
      "<weight> of conv4_3 : 0.00598299\n",
      "<bias> of conv4_3 : 0.0568271\n",
      "<weight> of conv5_1 : 0.00658766\n",
      "<bias> of conv5_1 : 0.108178\n",
      "<weight> of conv5_2 : 0.00680123\n",
      "<bias> of conv5_2 : 0.165417\n",
      "<weight> of conv5_3 : 0.00655078\n",
      "<bias> of conv5_3 : 0.219785\n",
      "<weight> of fc6-conv : 0.0018283\n",
      "<bias> of fc6-conv : 0.164466\n",
      "<weight> of fc7-conv : 0.00351417\n",
      "<bias> of fc7-conv : 0.504471\n",
      "<weight> of score_fr : 0.0\n",
      "<bias> of score_fr : 0.0\n",
      "<weight> of upscore2 : 0.0\n",
      "Layer upscore2  has no bias\n",
      "<weight> of scale_pool4 : 0.01\n",
      "Layer scale_pool4  has no bias\n",
      "<weight> of score_pool4 : 0.0\n",
      "<bias> of score_pool4 : 0.0\n",
      "<weight> of upscore_pool4 : 0.0\n",
      "Layer upscore_pool4  has no bias\n",
      "<weight> of scale_pool3 : 0.0001\n",
      "Layer scale_pool3  has no bias\n",
      "<weight> of score_pool3 : 0.0\n",
      "<bias> of score_pool3 : 0.0\n",
      "<weight> of upscore8 : 0.0\n",
      "Layer upscore8  has no bias\n"
     ]
    }
   ],
   "source": [
    "solver.net.copy_from(weights)\n",
    "dwi.print_init_info(solver.net)"
   ]
  },
  {
   "cell_type": "code",
   "execution_count": 4,
   "metadata": {
    "collapsed": false
   },
   "outputs": [
    {
     "name": "stdout",
     "output_type": "stream",
     "text": [
      "Applying upsampling filter in:  upscore2  (surgery.py)\n",
      "Applying upsampling filter in:  upscore_pool4  (surgery.py)\n",
      "Applying upsampling filter in:  upscore8  (surgery.py)\n"
     ]
    }
   ],
   "source": [
    "# surgeries\n",
    "interp_layers = [k for k in solver.net.params.keys() if 'up' in k]\n",
    "surgery.interp(solver.net, interp_layers)"
   ]
  },
  {
   "cell_type": "code",
   "execution_count": 5,
   "metadata": {
    "collapsed": false
   },
   "outputs": [
    {
     "name": "stdout",
     "output_type": "stream",
     "text": [
      "<weight> of conv1_1 : 0.16864\n",
      "<bias> of conv1_1 : 0.501886\n",
      "<weight> of conv1_2 : 0.0292296\n",
      "<bias> of conv1_2 : 0.265496\n",
      "<weight> of conv2_1 : 0.0208214\n",
      "<bias> of conv2_1 : 0.133923\n",
      "<weight> of conv2_2 : 0.0158209\n",
      "<bias> of conv2_2 : 0.147183\n",
      "<weight> of conv3_1 : 0.0119276\n",
      "<bias> of conv3_1 : 0.054964\n",
      "<weight> of conv3_2 : 0.00887883\n",
      "<bias> of conv3_2 : 0.0632454\n",
      "<weight> of conv3_3 : 0.00905539\n",
      "<bias> of conv3_3 : 0.0591653\n",
      "<weight> of conv4_1 : 0.00731401\n",
      "<bias> of conv4_1 : 0.0411595\n",
      "<weight> of conv4_2 : 0.0057639\n",
      "<bias> of conv4_2 : 0.0425173\n",
      "<weight> of conv4_3 : 0.00598299\n",
      "<bias> of conv4_3 : 0.0568271\n",
      "<weight> of conv5_1 : 0.00658766\n",
      "<bias> of conv5_1 : 0.108178\n",
      "<weight> of conv5_2 : 0.00680123\n",
      "<bias> of conv5_2 : 0.165417\n",
      "<weight> of conv5_3 : 0.00655078\n",
      "<bias> of conv5_3 : 0.219785\n",
      "<weight> of fc6-conv : 0.0018283\n",
      "<bias> of fc6-conv : 0.164466\n",
      "<weight> of fc7-conv : 0.00351417\n",
      "<bias> of fc7-conv : 0.504471\n",
      "<weight> of score_fr : 0.0\n",
      "<bias> of score_fr : 0.0\n",
      "<weight> of upscore2 : 0.0119048\n",
      "Layer upscore2  has no bias\n",
      "<weight> of scale_pool4 : 0.01\n",
      "Layer scale_pool4  has no bias\n",
      "<weight> of score_pool4 : 0.0\n",
      "<bias> of score_pool4 : 0.0\n",
      "<weight> of upscore_pool4 : 0.0119048\n",
      "Layer upscore_pool4  has no bias\n",
      "<weight> of scale_pool3 : 0.0001\n",
      "Layer scale_pool3  has no bias\n",
      "<weight> of score_pool3 : 0.0\n",
      "<bias> of score_pool3 : 0.0\n",
      "<weight> of upscore8 : 0.0119048\n",
      "Layer upscore8  has no bias\n"
     ]
    }
   ],
   "source": [
    "dwi.print_init_info(solver.net)"
   ]
  },
  {
   "cell_type": "code",
   "execution_count": null,
   "metadata": {
    "collapsed": true
   },
   "outputs": [],
   "source": []
  }
 ],
 "metadata": {
  "kernelspec": {
   "display_name": "Python 3",
   "language": "python",
   "name": "python3"
  },
  "language_info": {
   "codemirror_mode": {
    "name": "ipython",
    "version": 3
   },
   "file_extension": ".py",
   "mimetype": "text/x-python",
   "name": "python",
   "nbconvert_exporter": "python",
   "pygments_lexer": "ipython3",
   "version": "3.5.1"
  }
 },
 "nbformat": 4,
 "nbformat_minor": 0
}
