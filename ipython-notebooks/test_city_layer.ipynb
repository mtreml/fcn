{
 "cells": [
  {
   "cell_type": "code",
   "execution_count": 4,
   "metadata": {
    "collapsed": false
   },
   "outputs": [],
   "source": [
    "import numpy as np\n",
    "from PIL import Image\n",
    "\n",
    "\n",
    "class CITYTrainSegDataLayer():\n",
    "    \n",
    "    def __init__(self, **kwargs):\n",
    "        self.DB_dir = \"/data02/bioinf/treml/cityscapes\"\n",
    "        self.mean = np.array((104.00698793, 116.66876762, 122.67891434))\n",
    "        self.split = \"train_CITY_debug\"\n",
    "        \n",
    "        # load indices for images and labels\n",
    "        split_f  = '{}/{}.txt'.format(self.DB_dir,\n",
    "                self.split)\n",
    "        self.indices = open(split_f, 'r').read().splitlines()\n",
    "\n",
    "    def load_image(self, idx):\n",
    "        \"\"\"\n",
    "        Load input image and preprocess for Caffe:\n",
    "        - cast to float\n",
    "        - switch channels RGB -> BGR\n",
    "        - subtract mean\n",
    "        - transpose to channel x height x width order\n",
    "        \"\"\"\n",
    "        im = Image.open('{}/leftImg8bit/train/{}leftImg8bit.png'.format(self.DB_dir, idx))\n",
    "        in_ = np.array(im, dtype=np.float32)\n",
    "        in_ = in_[:,:,::-1]\n",
    "        in_ -= self.mean\n",
    "        in_ = in_.transpose((2,0,1))\n",
    "        return in_\n",
    "\n",
    "\n",
    "    def load_label(self, idx):\n",
    "        \"\"\"\n",
    "        Load label image as 1 x height x width integer array of label indices.\n",
    "        The leading singleton dimension is required by the loss.\n",
    "        \"\"\"\n",
    "        im = Image.open('{}/gtFine/train/{}gtFine_color.png'.format(self.DB_dir, idx))\n",
    "        label = np.array(im, dtype=np.uint8)\n",
    "        label = label[np.newaxis, ...]\n",
    "        return label"
   ]
  },
  {
   "cell_type": "code",
   "execution_count": 10,
   "metadata": {
    "collapsed": false
   },
   "outputs": [
    {
     "name": "stdout",
     "output_type": "stream",
     "text": [
      "Image has shape (3, 1024, 2048)\n",
      "Label has shape (1, 1024, 2048, 4)\n"
     ]
    }
   ],
   "source": [
    "L = CITYTrainSegDataLayer()\n",
    "img = L.load_image(L.indices[0])\n",
    "lab = L.load_label(L.indices[0])\n",
    "print('Image has shape', img.shape)\n",
    "print('Label has shape', lab.shape)"
   ]
  },
  {
   "cell_type": "code",
   "execution_count": null,
   "metadata": {
    "collapsed": false
   },
   "outputs": [],
   "source": []
  }
 ],
 "metadata": {
  "kernelspec": {
   "display_name": "Python 3",
   "language": "python",
   "name": "python3"
  },
  "language_info": {
   "codemirror_mode": {
    "name": "ipython",
    "version": 3
   },
   "file_extension": ".py",
   "mimetype": "text/x-python",
   "name": "python",
   "nbconvert_exporter": "python",
   "pygments_lexer": "ipython3",
   "version": "3.5.1"
  }
 },
 "nbformat": 4,
 "nbformat_minor": 0
}
