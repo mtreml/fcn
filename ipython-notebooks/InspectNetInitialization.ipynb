{
 "cells": [
  {
   "cell_type": "markdown",
   "metadata": {},
   "source": [
    "# Inspect Initialization"
   ]
  },
  {
   "cell_type": "code",
   "execution_count": 6,
   "metadata": {
    "collapsed": true
   },
   "outputs": [],
   "source": [
    "# Load net\n",
    "import caffe\n",
    "import diagnose_weights as dwi\n",
    "import pandas as pd\n",
    "# fcn8 (initial weights for TRAIN)\n",
    "net = caffe.Net('voc-fcn8s-atonce/train.prototxt', \n",
    "                          'voc-fcn8s-atonce/vgg16fc.caffemodel',\n",
    "                          caffe.TEST)"
   ]
  },
  {
   "cell_type": "code",
   "execution_count": 10,
   "metadata": {
    "collapsed": false
   },
   "outputs": [
    {
     "data": {
      "text/plain": [
       "\"['conv1_1', 'conv1_2', 'conv2_1', 'conv2_2', 'conv3_1', 'conv3_2', 'conv3_3', 'conv4_1', 'conv4_2', 'conv4_3', 'conv5_1', 'conv5_2', 'conv5_3', 'fc6-conv', 'fc7-conv', 'score_fr', 'upscore2', 'scale_pool4', 'score_pool4', 'upscore_pool4', 'scale_pool3', 'score_pool3', 'upscore8']\""
      ]
     },
     "execution_count": 10,
     "metadata": {},
     "output_type": "execute_result"
    }
   ],
   "source": [
    "# print layers\n",
    "str(dwi.layer_list(net))"
   ]
  },
  {
   "cell_type": "code",
   "execution_count": 7,
   "metadata": {
    "collapsed": false
   },
   "outputs": [
    {
     "data": {
      "text/html": [
       "<div>\n",
       "<table border=\"1\" class=\"dataframe\">\n",
       "  <thead>\n",
       "    <tr>\n",
       "      <th></th>\n",
       "      <th></th>\n",
       "      <th colspan=\"2\" halign=\"left\">conv1_1</th>\n",
       "      <th colspan=\"2\" halign=\"left\">conv1_2</th>\n",
       "      <th colspan=\"2\" halign=\"left\">conv2_1</th>\n",
       "      <th colspan=\"2\" halign=\"left\">conv2_2</th>\n",
       "      <th>conv3_1</th>\n",
       "      <th>...</th>\n",
       "      <th colspan=\"2\" halign=\"left\">score_pool4</th>\n",
       "      <th colspan=\"2\" halign=\"left\">upscore_pool4</th>\n",
       "      <th colspan=\"2\" halign=\"left\">scale_pool3</th>\n",
       "      <th colspan=\"2\" halign=\"left\">score_pool3</th>\n",
       "      <th colspan=\"2\" halign=\"left\">upscore8</th>\n",
       "    </tr>\n",
       "    <tr>\n",
       "      <th></th>\n",
       "      <th>NumIters</th>\n",
       "      <th>weight</th>\n",
       "      <th>bias</th>\n",
       "      <th>weight</th>\n",
       "      <th>bias</th>\n",
       "      <th>weight</th>\n",
       "      <th>bias</th>\n",
       "      <th>weight</th>\n",
       "      <th>bias</th>\n",
       "      <th>weight</th>\n",
       "      <th>...</th>\n",
       "      <th>weight</th>\n",
       "      <th>bias</th>\n",
       "      <th>weight</th>\n",
       "      <th>bias</th>\n",
       "      <th>weight</th>\n",
       "      <th>bias</th>\n",
       "      <th>weight</th>\n",
       "      <th>bias</th>\n",
       "      <th>weight</th>\n",
       "      <th>bias</th>\n",
       "    </tr>\n",
       "  </thead>\n",
       "  <tbody>\n",
       "    <tr>\n",
       "      <th>0</th>\n",
       "      <td>0.0</td>\n",
       "      <td>0.16864</td>\n",
       "      <td>0.501886</td>\n",
       "      <td>0.02923</td>\n",
       "      <td>0.265496</td>\n",
       "      <td>0.020821</td>\n",
       "      <td>0.133923</td>\n",
       "      <td>0.015821</td>\n",
       "      <td>0.147183</td>\n",
       "      <td>0.011928</td>\n",
       "      <td>...</td>\n",
       "      <td>0.0</td>\n",
       "      <td>0.0</td>\n",
       "      <td>0.0</td>\n",
       "      <td>NaN</td>\n",
       "      <td>0.0001</td>\n",
       "      <td>NaN</td>\n",
       "      <td>0.0</td>\n",
       "      <td>0.0</td>\n",
       "      <td>0.0</td>\n",
       "      <td>NaN</td>\n",
       "    </tr>\n",
       "  </tbody>\n",
       "</table>\n",
       "<p>1 rows × 47 columns</p>\n",
       "</div>"
      ],
      "text/plain": [
       "            conv1_1            conv1_2             conv2_1            \\\n",
       "  NumIters   weight      bias   weight      bias    weight      bias   \n",
       "0      0.0  0.16864  0.501886  0.02923  0.265496  0.020821  0.133923   \n",
       "\n",
       "    conv2_2             conv3_1 ...  score_pool4      upscore_pool4       \\\n",
       "     weight      bias    weight ...       weight bias        weight bias   \n",
       "0  0.015821  0.147183  0.011928 ...          0.0  0.0           0.0  NaN   \n",
       "\n",
       "  scale_pool3      score_pool3      upscore8       \n",
       "       weight bias      weight bias   weight bias  \n",
       "0      0.0001  NaN         0.0  0.0      0.0  NaN  \n",
       "\n",
       "[1 rows x 47 columns]"
      ]
     },
     "execution_count": 7,
     "metadata": {},
     "output_type": "execute_result"
    }
   ],
   "source": [
    "# initial weights as dataframe\n",
    "initial_weights = dwi.get_mean_df(net, 0)\n",
    "initial_weights"
   ]
  },
  {
   "cell_type": "code",
   "execution_count": 12,
   "metadata": {
    "collapsed": false
   },
   "outputs": [
    {
     "name": "stdout",
     "output_type": "stream",
     "text": [
      "<weight> of conv1_1 : 0.16864\n",
      "<bias> of conv1_1 : 0.501886\n",
      "<weight> of conv1_2 : 0.0292296\n",
      "<bias> of conv1_2 : 0.265496\n",
      "<weight> of conv2_1 : 0.0208214\n",
      "<bias> of conv2_1 : 0.133923\n",
      "<weight> of conv2_2 : 0.0158209\n",
      "<bias> of conv2_2 : 0.147183\n",
      "<weight> of conv3_1 : 0.0119276\n",
      "<bias> of conv3_1 : 0.054964\n",
      "<weight> of conv3_2 : 0.00887883\n",
      "<bias> of conv3_2 : 0.0632454\n",
      "<weight> of conv3_3 : 0.00905539\n",
      "<bias> of conv3_3 : 0.0591653\n",
      "<weight> of conv4_1 : 0.00731401\n",
      "<bias> of conv4_1 : 0.0411595\n",
      "<weight> of conv4_2 : 0.0057639\n",
      "<bias> of conv4_2 : 0.0425173\n",
      "<weight> of conv4_3 : 0.00598299\n",
      "<bias> of conv4_3 : 0.0568271\n",
      "<weight> of conv5_1 : 0.00658766\n",
      "<bias> of conv5_1 : 0.108178\n",
      "<weight> of conv5_2 : 0.00680123\n",
      "<bias> of conv5_2 : 0.165417\n",
      "<weight> of conv5_3 : 0.00655078\n",
      "<bias> of conv5_3 : 0.219785\n",
      "<weight> of fc6-conv : 0.0018283\n",
      "<bias> of fc6-conv : 0.164466\n",
      "<weight> of fc7-conv : 0.00351417\n",
      "<bias> of fc7-conv : 0.504471\n",
      "<weight> of score_fr : 0.0\n",
      "<bias> of score_fr : 0.0\n",
      "<weight> of upscore2 : 0.0\n",
      "Layer upscore2  has no bias\n",
      "<weight> of scale_pool4 : 0.01\n",
      "Layer scale_pool4  has no bias\n",
      "<weight> of score_pool4 : 0.0\n",
      "<bias> of score_pool4 : 0.0\n",
      "<weight> of upscore_pool4 : 0.0\n",
      "Layer upscore_pool4  has no bias\n",
      "<weight> of scale_pool3 : 0.0001\n",
      "Layer scale_pool3  has no bias\n",
      "<weight> of score_pool3 : 0.0\n",
      "<bias> of score_pool3 : 0.0\n",
      "<weight> of upscore8 : 0.0\n",
      "Layer upscore8  has no bias\n"
     ]
    }
   ],
   "source": [
    "# print initial weights\n",
    "dwi.print_means(net)"
   ]
  },
  {
   "cell_type": "code",
   "execution_count": null,
   "metadata": {
    "collapsed": true
   },
   "outputs": [],
   "source": []
  }
 ],
 "metadata": {
  "kernelspec": {
   "display_name": "Python 3",
   "language": "python",
   "name": "python3"
  },
  "language_info": {
   "codemirror_mode": {
    "name": "ipython",
    "version": 3
   },
   "file_extension": ".py",
   "mimetype": "text/x-python",
   "name": "python",
   "nbconvert_exporter": "python",
   "pygments_lexer": "ipython3",
   "version": "3.5.1"
  }
 },
 "nbformat": 4,
 "nbformat_minor": 0
}
