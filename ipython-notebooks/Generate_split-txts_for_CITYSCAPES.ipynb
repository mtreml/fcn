{
 "cells": [
  {
   "cell_type": "markdown",
   "metadata": {},
   "source": [
    "# Generate train.txt for CITYSCAPES"
   ]
  },
  {
   "cell_type": "code",
   "execution_count": 1,
   "metadata": {
    "collapsed": true
   },
   "outputs": [],
   "source": [
    "path2images = \"/data02/bioinf/treml/cityscapes/leftImg8bit/train\""
   ]
  },
  {
   "cell_type": "code",
   "execution_count": 2,
   "metadata": {
    "collapsed": false
   },
   "outputs": [
    {
     "name": "stdout",
     "output_type": "stream",
     "text": [
      "folder:  strasbourg\n",
      "folder:  krefeld\n",
      "folder:  zurich\n",
      "folder:  aachen\n",
      "folder:  bochum\n",
      "folder:  bremen\n",
      "folder:  erfurt\n",
      "folder:  jena\n",
      "folder:  hamburg\n",
      "folder:  tubingen\n",
      "folder:  dusseldorf\n",
      "folder:  weimar\n",
      "folder:  cologne\n",
      "folder:  stuttgart\n",
      "folder:  darmstadt\n",
      "folder:  hanover\n",
      "folder:  ulm\n",
      "folder:  monchengladbach\n",
      "train_CITY.txt with 2975 files was generated\n"
     ]
    }
   ],
   "source": [
    "import os\n",
    "n_files = 0\n",
    "with open ('train_CITY.txt', 'w') as train_txt:\n",
    "    for folder in os.listdir(path2images):\n",
    "        print('folder: ', folder)\n",
    "        for file in os.listdir(os.path.join(path2images, folder)):\n",
    "            city, seq, frame, suff = file.split('_')\n",
    "            train_txt.write('{}/{}_{}_{}_'.format(city, city, seq, frame) +'\\n')\n",
    "            n_files+=1\n",
    "print('train_CITY.txt with', n_files ,'files was generated')\n",
    "#dusseldorf_000063_000019_gtFine_color.png"
   ]
  },
  {
   "cell_type": "markdown",
   "metadata": {
    "collapsed": true
   },
   "source": [
    "# Generate test.txt for CITYSCAPES"
   ]
  },
  {
   "cell_type": "code",
   "execution_count": 4,
   "metadata": {
    "collapsed": true
   },
   "outputs": [],
   "source": [
    "path2images = \"/data02/bioinf/treml/cityscapes/leftImg8bit/test\""
   ]
  },
  {
   "cell_type": "code",
   "execution_count": 5,
   "metadata": {
    "collapsed": false
   },
   "outputs": [
    {
     "name": "stdout",
     "output_type": "stream",
     "text": [
      "folder:  mainz\n",
      "folder:  bielefeld\n",
      "folder:  berlin\n",
      "folder:  munich\n",
      "folder:  bonn\n",
      "folder:  leverkusen\n",
      "test_CITY.txt with 1525 files was generated\n"
     ]
    }
   ],
   "source": [
    "import os\n",
    "n_files = 0\n",
    "with open ('test_CITY.txt', 'w') as train_txt:\n",
    "    for folder in os.listdir(path2images):\n",
    "        print('folder: ', folder)\n",
    "        for file in os.listdir(os.path.join(path2images, folder)):\n",
    "            city, seq, frame, suff = file.split('_')\n",
    "            train_txt.write('{}/{}_{}_{}_'.format(city, city, seq, frame) +'\\n')\n",
    "            n_files+=1\n",
    "print('test_CITY.txt with', n_files ,'files was generated')"
   ]
  },
  {
   "cell_type": "markdown",
   "metadata": {
    "collapsed": true
   },
   "source": [
    "# Generate val.txt for CITYSCAPES"
   ]
  },
  {
   "cell_type": "code",
   "execution_count": 7,
   "metadata": {
    "collapsed": true
   },
   "outputs": [],
   "source": [
    "path2images = \"/data02/bioinf/treml/cityscapes/leftImg8bit/val\""
   ]
  },
  {
   "cell_type": "code",
   "execution_count": 8,
   "metadata": {
    "collapsed": false
   },
   "outputs": [
    {
     "name": "stdout",
     "output_type": "stream",
     "text": [
      "folder:  lindau\n",
      "folder:  frankfurt\n",
      "folder:  munster\n",
      "val_CITY.txt with 500 files was generated\n"
     ]
    }
   ],
   "source": [
    "import os\n",
    "n_files = 0\n",
    "with open ('val_CITY.txt', 'w') as train_txt:\n",
    "    for folder in os.listdir(path2images):\n",
    "        print('folder: ', folder)\n",
    "        for file in os.listdir(os.path.join(path2images, folder)):\n",
    "            city, seq, frame, suff = file.split('_')\n",
    "            train_txt.write('{}/{}_{}_{}_'.format(city, city, seq, frame) +'\\n')\n",
    "            n_files+=1\n",
    "print('val_CITY.txt with', n_files ,'files was generated')"
   ]
  },
  {
   "cell_type": "code",
   "execution_count": null,
   "metadata": {
    "collapsed": true
   },
   "outputs": [],
   "source": []
  }
 ],
 "metadata": {
  "kernelspec": {
   "display_name": "Python 3",
   "language": "python",
   "name": "python3"
  },
  "language_info": {
   "codemirror_mode": {
    "name": "ipython",
    "version": 3
   },
   "file_extension": ".py",
   "mimetype": "text/x-python",
   "name": "python",
   "nbconvert_exporter": "python",
   "pygments_lexer": "ipython3",
   "version": "3.5.1"
  }
 },
 "nbformat": 4,
 "nbformat_minor": 0
}
