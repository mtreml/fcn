{
 "cells": [
  {
   "cell_type": "markdown",
   "metadata": {},
   "source": [
    "# Generate HDF5 Database"
   ]
  },
  {
   "cell_type": "markdown",
   "metadata": {},
   "source": [
    "# Load and preprocess images/labels for training"
   ]
  },
  {
   "cell_type": "code",
   "execution_count": 44,
   "metadata": {
    "collapsed": true
   },
   "outputs": [],
   "source": [
    "# TRAINING\n",
    "import numpy as np\n",
    "import matplotlib.pyplot as plt\n",
    "from PIL import Image\n",
    "\n",
    "class LoadTrainingData():\n",
    "    \n",
    "    def __init__(self, **kwargs):        \n",
    "        self.sbdd_dir = \"/data02/bioinf/treml/pascal/SBDD/dataset\"\n",
    "        self.mean = np.array((104.00698793, 116.66876762, 122.67891434))\n",
    "        self.split = \"train\"\n",
    "        \n",
    "        # load indices for images and labels\n",
    "        split_f  = '{}/{}.txt'.format(self.sbdd_dir, self.split)\n",
    "        self.indices = open(split_f, 'r').read().splitlines()\n",
    "        self.idx = 0\n",
    "\n",
    "\n",
    "    def load_image(self, idx):\n",
    "        \"\"\"\n",
    "        Load input image and preprocess for Caffe:\n",
    "        - cast to float\n",
    "        - switch channels RGB -> BGR\n",
    "        - subtract mean\n",
    "        - transpose to channel x height x width order\n",
    "        \"\"\"\n",
    "        im = Image.open('{}/img/{}.jpg'.format(self.sbdd_dir, idx))\n",
    "        in_ = np.array(im, dtype=np.float32)\n",
    "        in_ = in_[:,:,::-1]\n",
    "        in_ -= self.mean\n",
    "        in_ = in_.transpose((2,0,1))\n",
    "        return in_\n",
    "\n",
    "\n",
    "    def load_label(self, idx):\n",
    "        \"\"\"\n",
    "        Load label image as 1 x height x width integer array of label indices.\n",
    "        The leading singleton dimension is required by the loss.\n",
    "        \"\"\"\n",
    "        import scipy.io\n",
    "        mat = scipy.io.loadmat('{}/cls/{}.mat'.format(self.sbdd_dir, idx))\n",
    "        label = mat['GTcls'][0]['Segmentation'][0].astype(np.uint8)\n",
    "        label = label[np.newaxis, ...]\n",
    "        return label"
   ]
  },
  {
   "cell_type": "code",
   "execution_count": 46,
   "metadata": {
    "collapsed": false
   },
   "outputs": [
    {
     "name": "stdout",
     "output_type": "stream",
     "text": [
      "Img: (3, 375, 500)\n",
      "Label: (1, 375, 500)\n"
     ]
    }
   ],
   "source": [
    "traindata = LoadTrainingData()\n",
    "idx = traindata.indices[0]\n",
    "img = traindata.load_image(idx)\n",
    "label = traindata.load_label(idx)\n",
    "\n",
    "print('Img:', img.shape)\n",
    "print('Label:', label.shape)\n",
    "\n",
    "#for idx in traindata.indices:\n",
    "#    img = traindata.load_image(idx)\n",
    "#    label = traindata.load_label(idx)\n",
    "\n"
   ]
  },
  {
   "cell_type": "code",
   "execution_count": 42,
   "metadata": {
    "collapsed": false
   },
   "outputs": [
    {
     "name": "stdout",
     "output_type": "stream",
     "text": [
      "[ 104.00698793  116.66876762  122.67891434]\n",
      "23.1131\n",
      "137.565\n"
     ]
    }
   ],
   "source": []
  },
  {
   "cell_type": "code",
   "execution_count": 1,
   "metadata": {
    "collapsed": false
   },
   "outputs": [
    {
     "ename": "NameError",
     "evalue": "name 'X' is not defined",
     "output_type": "error",
     "traceback": [
      "\u001b[1;31m---------------------------------------------------------------------------\u001b[0m",
      "\u001b[1;31mNameError\u001b[0m                                 Traceback (most recent call last)",
      "\u001b[1;32m<ipython-input-1-b836b08540eb>\u001b[0m in \u001b[0;36m<module>\u001b[1;34m()\u001b[0m\n\u001b[0;32m      7\u001b[0m \u001b[1;32mwith\u001b[0m \u001b[0mh5py\u001b[0m\u001b[1;33m.\u001b[0m\u001b[0mFile\u001b[0m\u001b[1;33m(\u001b[0m\u001b[0mh5_fn\u001b[0m\u001b[1;33m,\u001b[0m \u001b[1;34m'w'\u001b[0m\u001b[1;33m)\u001b[0m \u001b[1;32mas\u001b[0m \u001b[0mf\u001b[0m\u001b[1;33m:\u001b[0m\u001b[1;33m\u001b[0m\u001b[0m\n\u001b[0;32m      8\u001b[0m \u001b[1;33m\u001b[0m\u001b[0m\n\u001b[1;32m----> 9\u001b[1;33m     \u001b[0mf\u001b[0m\u001b[1;33m[\u001b[0m\u001b[1;34m'data'\u001b[0m\u001b[1;33m]\u001b[0m \u001b[1;33m=\u001b[0m \u001b[0mX\u001b[0m\u001b[1;33m\u001b[0m\u001b[0m\n\u001b[0m\u001b[0;32m     10\u001b[0m     \u001b[0mf\u001b[0m\u001b[1;33m[\u001b[0m\u001b[1;34m'label1'\u001b[0m\u001b[1;33m]\u001b[0m \u001b[1;33m=\u001b[0m \u001b[0mY1\u001b[0m\u001b[1;33m\u001b[0m\u001b[0m\n\u001b[0;32m     11\u001b[0m     \u001b[0mf\u001b[0m\u001b[1;33m[\u001b[0m\u001b[1;34m'label2'\u001b[0m\u001b[1;33m]\u001b[0m \u001b[1;33m=\u001b[0m \u001b[0mY2\u001b[0m\u001b[1;33m\u001b[0m\u001b[0m\n",
      "\u001b[1;31mNameError\u001b[0m: name 'X' is not defined"
     ]
    }
   ],
   "source": [
    "import h5py\n",
    "import os\n",
    "\n",
    "DIR = \"data/hdf5/\"\n",
    "h5_fn = os.path.join(DIR, 'seg11val.h5')\n",
    "\n",
    "with h5py.File(h5_fn, 'w') as f:\n",
    "    \n",
    "    f['data'] = X\n",
    "    f['label1'] = Y1\n",
    "    f['label2'] = Y2\n",
    "\n",
    "text_fn = os.path.join(DIR, 'seg11val.txt')\n",
    "with open(text_fn, 'w') as f:\n",
    "    print(h5_fn, file = f)"
   ]
  },
  {
   "cell_type": "code",
   "execution_count": null,
   "metadata": {
    "collapsed": true
   },
   "outputs": [],
   "source": []
  }
 ],
 "metadata": {
  "kernelspec": {
   "display_name": "Python 3",
   "language": "python",
   "name": "python3"
  },
  "language_info": {
   "codemirror_mode": {
    "name": "ipython",
    "version": 3
   },
   "file_extension": ".py",
   "mimetype": "text/x-python",
   "name": "python",
   "nbconvert_exporter": "python",
   "pygments_lexer": "ipython3",
   "version": "3.5.1"
  }
 },
 "nbformat": 4,
 "nbformat_minor": 0
}
