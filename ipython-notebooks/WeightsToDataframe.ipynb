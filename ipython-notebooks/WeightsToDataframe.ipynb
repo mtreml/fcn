{
 "cells": [
  {
   "cell_type": "code",
   "execution_count": 1,
   "metadata": {
    "collapsed": true
   },
   "outputs": [],
   "source": [
    "import caffe\n",
    "import diagnose_weights as dwi\n",
    "import pandas as pd\n",
    "# fcn8 (initial weights for TRAIN)\n",
    "net = caffe.Net('voc-fcn8s-atonce/train.prototxt', \n",
    "                          'voc-fcn8s-atonce/vgg16fc.caffemodel',\n",
    "                          caffe.TRAIN)"
   ]
  },
  {
   "cell_type": "code",
   "execution_count": 2,
   "metadata": {
    "collapsed": false
   },
   "outputs": [
    {
     "data": {
      "text/html": [
       "<div>\n",
       "<table border=\"1\" class=\"dataframe\">\n",
       "  <thead>\n",
       "    <tr>\n",
       "      <th></th>\n",
       "      <th></th>\n",
       "      <th colspan=\"2\" halign=\"left\">conv1_1</th>\n",
       "      <th colspan=\"2\" halign=\"left\">conv1_2</th>\n",
       "      <th colspan=\"2\" halign=\"left\">conv2_1</th>\n",
       "      <th colspan=\"2\" halign=\"left\">conv2_2</th>\n",
       "      <th>conv3_1</th>\n",
       "      <th>...</th>\n",
       "      <th colspan=\"2\" halign=\"left\">score_pool4</th>\n",
       "      <th colspan=\"2\" halign=\"left\">upscore_pool4</th>\n",
       "      <th colspan=\"2\" halign=\"left\">scale_pool3</th>\n",
       "      <th colspan=\"2\" halign=\"left\">score_pool3</th>\n",
       "      <th colspan=\"2\" halign=\"left\">upscore8</th>\n",
       "    </tr>\n",
       "    <tr>\n",
       "      <th></th>\n",
       "      <th>NumIters</th>\n",
       "      <th>weight</th>\n",
       "      <th>bias</th>\n",
       "      <th>weight</th>\n",
       "      <th>bias</th>\n",
       "      <th>weight</th>\n",
       "      <th>bias</th>\n",
       "      <th>weight</th>\n",
       "      <th>bias</th>\n",
       "      <th>weight</th>\n",
       "      <th>...</th>\n",
       "      <th>weight</th>\n",
       "      <th>bias</th>\n",
       "      <th>weight</th>\n",
       "      <th>bias</th>\n",
       "      <th>weight</th>\n",
       "      <th>bias</th>\n",
       "      <th>weight</th>\n",
       "      <th>bias</th>\n",
       "      <th>weight</th>\n",
       "      <th>bias</th>\n",
       "    </tr>\n",
       "  </thead>\n",
       "  <tbody>\n",
       "  </tbody>\n",
       "</table>\n",
       "<p>0 rows × 47 columns</p>\n",
       "</div>"
      ],
      "text/plain": [
       "Empty DataFrame\n",
       "Columns: [(, NumIters), (conv1_1, weight), (conv1_1, bias), (conv1_2, weight), (conv1_2, bias), (conv2_1, weight), (conv2_1, bias), (conv2_2, weight), (conv2_2, bias), (conv3_1, weight), (conv3_1, bias), (conv3_2, weight), (conv3_2, bias), (conv3_3, weight), (conv3_3, bias), (conv4_1, weight), (conv4_1, bias), (conv4_2, weight), (conv4_2, bias), (conv4_3, weight), (conv4_3, bias), (conv5_1, weight), (conv5_1, bias), (conv5_2, weight), (conv5_2, bias), (conv5_3, weight), (conv5_3, bias), (fc6-conv, weight), (fc6-conv, bias), (fc7-conv, weight), (fc7-conv, bias), (score_fr, weight), (score_fr, bias), (upscore2, weight), (upscore2, bias), (scale_pool4, weight), (scale_pool4, bias), (score_pool4, weight), (score_pool4, bias), (upscore_pool4, weight), (upscore_pool4, bias), (scale_pool3, weight), (scale_pool3, bias), (score_pool3, weight), (score_pool3, bias), (upscore8, weight), (upscore8, bias)]\n",
       "Index: []\n",
       "\n",
       "[0 rows x 47 columns]"
      ]
     },
     "execution_count": 2,
     "metadata": {},
     "output_type": "execute_result"
    }
   ],
   "source": [
    "# create empty dataframe\n",
    "weights_frame = pd.DataFrame(columns=dwi.gen_pandas_struct(net))\n",
    "weights_frame"
   ]
  },
  {
   "cell_type": "code",
   "execution_count": 3,
   "metadata": {
    "collapsed": false
   },
   "outputs": [
    {
     "data": {
      "text/html": [
       "<div>\n",
       "<table border=\"1\" class=\"dataframe\">\n",
       "  <thead>\n",
       "    <tr>\n",
       "      <th></th>\n",
       "      <th></th>\n",
       "      <th colspan=\"2\" halign=\"left\">conv1_1</th>\n",
       "      <th colspan=\"2\" halign=\"left\">conv1_2</th>\n",
       "      <th colspan=\"2\" halign=\"left\">conv2_1</th>\n",
       "      <th colspan=\"2\" halign=\"left\">conv2_2</th>\n",
       "      <th>conv3_1</th>\n",
       "      <th>...</th>\n",
       "      <th colspan=\"2\" halign=\"left\">score_pool4</th>\n",
       "      <th colspan=\"2\" halign=\"left\">upscore_pool4</th>\n",
       "      <th colspan=\"2\" halign=\"left\">scale_pool3</th>\n",
       "      <th colspan=\"2\" halign=\"left\">score_pool3</th>\n",
       "      <th colspan=\"2\" halign=\"left\">upscore8</th>\n",
       "    </tr>\n",
       "    <tr>\n",
       "      <th></th>\n",
       "      <th>NumIters</th>\n",
       "      <th>weight</th>\n",
       "      <th>bias</th>\n",
       "      <th>weight</th>\n",
       "      <th>bias</th>\n",
       "      <th>weight</th>\n",
       "      <th>bias</th>\n",
       "      <th>weight</th>\n",
       "      <th>bias</th>\n",
       "      <th>weight</th>\n",
       "      <th>...</th>\n",
       "      <th>weight</th>\n",
       "      <th>bias</th>\n",
       "      <th>weight</th>\n",
       "      <th>bias</th>\n",
       "      <th>weight</th>\n",
       "      <th>bias</th>\n",
       "      <th>weight</th>\n",
       "      <th>bias</th>\n",
       "      <th>weight</th>\n",
       "      <th>bias</th>\n",
       "    </tr>\n",
       "  </thead>\n",
       "  <tbody>\n",
       "    <tr>\n",
       "      <th>0</th>\n",
       "      <td>1.0</td>\n",
       "      <td>0.16864</td>\n",
       "      <td>0.501886</td>\n",
       "      <td>0.02923</td>\n",
       "      <td>0.265496</td>\n",
       "      <td>0.020821</td>\n",
       "      <td>0.133923</td>\n",
       "      <td>0.015821</td>\n",
       "      <td>0.147183</td>\n",
       "      <td>0.011928</td>\n",
       "      <td>...</td>\n",
       "      <td>0.0</td>\n",
       "      <td>0.0</td>\n",
       "      <td>0.0</td>\n",
       "      <td>NaN</td>\n",
       "      <td>0.0001</td>\n",
       "      <td>NaN</td>\n",
       "      <td>0.0</td>\n",
       "      <td>0.0</td>\n",
       "      <td>0.0</td>\n",
       "      <td>NaN</td>\n",
       "    </tr>\n",
       "  </tbody>\n",
       "</table>\n",
       "<p>1 rows × 47 columns</p>\n",
       "</div>"
      ],
      "text/plain": [
       "            conv1_1            conv1_2             conv2_1            \\\n",
       "  NumIters   weight      bias   weight      bias    weight      bias   \n",
       "0      1.0  0.16864  0.501886  0.02923  0.265496  0.020821  0.133923   \n",
       "\n",
       "    conv2_2             conv3_1 ...  score_pool4      upscore_pool4       \\\n",
       "     weight      bias    weight ...       weight bias        weight bias   \n",
       "0  0.015821  0.147183  0.011928 ...          0.0  0.0           0.0  NaN   \n",
       "\n",
       "  scale_pool3      score_pool3      upscore8       \n",
       "       weight bias      weight bias   weight bias  \n",
       "0      0.0001  NaN         0.0  0.0      0.0  NaN  \n",
       "\n",
       "[1 rows x 47 columns]"
      ]
     },
     "execution_count": 3,
     "metadata": {},
     "output_type": "execute_result"
    }
   ],
   "source": [
    "# create current dataframe\n",
    "current_df = dwi.get_mean_df(net, 1)\n",
    "current_df"
   ]
  },
  {
   "cell_type": "code",
   "execution_count": 4,
   "metadata": {
    "collapsed": false
   },
   "outputs": [
    {
     "data": {
      "text/html": [
       "<div>\n",
       "<table border=\"1\" class=\"dataframe\">\n",
       "  <thead>\n",
       "    <tr>\n",
       "      <th></th>\n",
       "      <th></th>\n",
       "      <th colspan=\"2\" halign=\"left\">conv1_1</th>\n",
       "      <th colspan=\"2\" halign=\"left\">conv1_2</th>\n",
       "      <th colspan=\"2\" halign=\"left\">conv2_1</th>\n",
       "      <th colspan=\"2\" halign=\"left\">conv2_2</th>\n",
       "      <th>conv3_1</th>\n",
       "      <th>...</th>\n",
       "      <th colspan=\"2\" halign=\"left\">score_pool4</th>\n",
       "      <th colspan=\"2\" halign=\"left\">upscore_pool4</th>\n",
       "      <th colspan=\"2\" halign=\"left\">scale_pool3</th>\n",
       "      <th colspan=\"2\" halign=\"left\">score_pool3</th>\n",
       "      <th colspan=\"2\" halign=\"left\">upscore8</th>\n",
       "    </tr>\n",
       "    <tr>\n",
       "      <th></th>\n",
       "      <th>NumIters</th>\n",
       "      <th>weight</th>\n",
       "      <th>bias</th>\n",
       "      <th>weight</th>\n",
       "      <th>bias</th>\n",
       "      <th>weight</th>\n",
       "      <th>bias</th>\n",
       "      <th>weight</th>\n",
       "      <th>bias</th>\n",
       "      <th>weight</th>\n",
       "      <th>...</th>\n",
       "      <th>weight</th>\n",
       "      <th>bias</th>\n",
       "      <th>weight</th>\n",
       "      <th>bias</th>\n",
       "      <th>weight</th>\n",
       "      <th>bias</th>\n",
       "      <th>weight</th>\n",
       "      <th>bias</th>\n",
       "      <th>weight</th>\n",
       "      <th>bias</th>\n",
       "    </tr>\n",
       "  </thead>\n",
       "  <tbody>\n",
       "    <tr>\n",
       "      <th>0</th>\n",
       "      <td>1.0</td>\n",
       "      <td>0.16864</td>\n",
       "      <td>0.501886</td>\n",
       "      <td>0.02923</td>\n",
       "      <td>0.265496</td>\n",
       "      <td>0.020821</td>\n",
       "      <td>0.133923</td>\n",
       "      <td>0.015821</td>\n",
       "      <td>0.147183</td>\n",
       "      <td>0.011928</td>\n",
       "      <td>...</td>\n",
       "      <td>0.0</td>\n",
       "      <td>0.0</td>\n",
       "      <td>0.0</td>\n",
       "      <td>NaN</td>\n",
       "      <td>0.0001</td>\n",
       "      <td>NaN</td>\n",
       "      <td>0.0</td>\n",
       "      <td>0.0</td>\n",
       "      <td>0.0</td>\n",
       "      <td>NaN</td>\n",
       "    </tr>\n",
       "  </tbody>\n",
       "</table>\n",
       "<p>1 rows × 47 columns</p>\n",
       "</div>"
      ],
      "text/plain": [
       "            conv1_1            conv1_2             conv2_1            \\\n",
       "  NumIters   weight      bias   weight      bias    weight      bias   \n",
       "0      1.0  0.16864  0.501886  0.02923  0.265496  0.020821  0.133923   \n",
       "\n",
       "    conv2_2             conv3_1 ...  score_pool4      upscore_pool4       \\\n",
       "     weight      bias    weight ...       weight bias        weight bias   \n",
       "0  0.015821  0.147183  0.011928 ...          0.0  0.0           0.0  NaN   \n",
       "\n",
       "  scale_pool3      score_pool3      upscore8       \n",
       "       weight bias      weight bias   weight bias  \n",
       "0      0.0001  NaN         0.0  0.0      0.0  NaN  \n",
       "\n",
       "[1 rows x 47 columns]"
      ]
     },
     "execution_count": 4,
     "metadata": {},
     "output_type": "execute_result"
    }
   ],
   "source": [
    "# append current df to old df\n",
    "weights_frame = pd.concat([weights_frame, current_df], ignore_index=True) \n",
    "weights_frame"
   ]
  },
  {
   "cell_type": "code",
   "execution_count": null,
   "metadata": {
    "collapsed": true
   },
   "outputs": [],
   "source": []
  }
 ],
 "metadata": {
  "kernelspec": {
   "display_name": "Python 3",
   "language": "python",
   "name": "python3"
  },
  "language_info": {
   "codemirror_mode": {
    "name": "ipython",
    "version": 3
   },
   "file_extension": ".py",
   "mimetype": "text/x-python",
   "name": "python",
   "nbconvert_exporter": "python",
   "pygments_lexer": "ipython3",
   "version": "3.5.1"
  }
 },
 "nbformat": 4,
 "nbformat_minor": 0
}
